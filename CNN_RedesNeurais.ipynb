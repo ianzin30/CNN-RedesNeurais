{
  "cells": [
    {
      "cell_type": "markdown",
      "metadata": {
        "id": "cWiGaDv-PmNb"
      },
      "source": [
        "# Imports e bibliotecas"
      ]
    },
    {
      "cell_type": "code",
      "execution_count": 1,
      "metadata": {
        "id": "NMyHaBKcCewR"
      },
      "outputs": [],
      "source": [
        "from keras.datasets import mnist\n",
        "from keras import layers\n",
        "from keras import models\n",
        "from keras.utils import to_categorical\n"
      ]
    },
    {
      "cell_type": "markdown",
      "metadata": {
        "id": "UonxupckPtKy"
      },
      "source": [
        "# Carregando e Preprocessando os Dados\n"
      ]
    },
    {
      "cell_type": "code",
      "execution_count": 2,
      "metadata": {
        "id": "cpzwaUj9yzeJ",
        "colab": {
          "base_uri": "https://localhost:8080/"
        },
        "outputId": "a57f4f95-cf77-4628-e27c-499ddcb54ba8"
      },
      "outputs": [
        {
          "output_type": "stream",
          "name": "stdout",
          "text": [
            "Downloading data from https://storage.googleapis.com/tensorflow/tf-keras-datasets/mnist.npz\n",
            "11490434/11490434 [==============================] - 0s 0us/step\n"
          ]
        }
      ],
      "source": [
        "# Carregamento dos dados\n",
        "(train_images, train_labels), (test_images, test_labels) = mnist.load_data()\n",
        "\n",
        "train_images = train_images.reshape((60000,28,28,1))\n",
        "train_images = train_images.astype('float32')/255\n",
        "\n",
        "test_images = test_images.reshape((10000,28,28,1))\n",
        "test_images = test_images.astype('float32')/255\n"
      ]
    },
    {
      "cell_type": "markdown",
      "metadata": {
        "id": "a89hfh02PwxQ"
      },
      "source": [
        "# Transformando os rótulos ( labels ) em categorias\n"
      ]
    },
    {
      "cell_type": "code",
      "execution_count": 3,
      "metadata": {
        "id": "U9GUdmkZyz7s"
      },
      "outputs": [],
      "source": [
        "train_labels = to_categorical(train_labels)\n",
        "test_labels = to_categorical(test_labels)\n"
      ]
    },
    {
      "cell_type": "markdown",
      "metadata": {
        "id": "VdrvgOocMw-F"
      },
      "source": [
        "# Exemplo ( Apagar dps)"
      ]
    },
    {
      "cell_type": "code",
      "execution_count": 4,
      "metadata": {
        "id": "t4l1sq8BMw-G"
      },
      "outputs": [],
      "source": [
        "from keras import layers\n",
        "from keras import models\n",
        "\n",
        "model = models.Sequential()\n",
        "model.add(layers.Conv2D(32,(3,3), activation='relu', input_shape = (28,28,1)))\n",
        "model.add(layers.MaxPooling2D((2,2)))\n",
        "model.add(layers.Conv2D(64,(3,3), activation='relu'))\n",
        "model.add(layers.MaxPooling2D((2,2)))\n",
        "model.add(layers.Conv2D(64,(3,3), activation='relu'))\n",
        "model.add(layers.Flatten())\n",
        "model.add(layers.Dense(64,activation = 'relu'))\n",
        "model.add(layers.Dense(10, activation= 'softmax'))"
      ]
    },
    {
      "cell_type": "markdown",
      "metadata": {
        "id": "F6Fz2SQaOP36"
      },
      "source": [
        "# Rede Convolucional Simples\n",
        "\n",
        "Primeiro teste simples sobre redes convolucionais. A arquitetura da rede inclui uma camada convolucional, uma de flattening e densas.\n",
        "\n",
        "## Arquitetura da Rede\n",
        "\n",
        "\n",
        "1. **Primeira Camada Convolucional**: Aplicamos 32 filtros de tamanho 3x3 com função de ativação ReLU.\n",
        "2. **Flatten**: Convertendo a saída da camada convolucional em um vetor 1D.\n",
        "3. **Primeira Camada Densa**: Contém 250 neurônios com função de ativação sigmoide.\n",
        "4. **Camada de Saída**: Contém 10 neurônios (um para cada classe) com função de ativação softmax."
      ]
    },
    {
      "cell_type": "code",
      "execution_count": 5,
      "metadata": {
        "id": "OPYwf3sChr0L",
        "outputId": "cd010488-7eb0-4830-aedf-ee0da83bccac",
        "colab": {
          "base_uri": "https://localhost:8080/"
        }
      },
      "outputs": [
        {
          "output_type": "stream",
          "name": "stdout",
          "text": [
            "Model: \"sequential_1\"\n",
            "_________________________________________________________________\n",
            " Layer (type)                Output Shape              Param #   \n",
            "=================================================================\n",
            " conv2d_3 (Conv2D)           (None, 26, 26, 32)        320       \n",
            "                                                                 \n",
            " flatten_1 (Flatten)         (None, 21632)             0         \n",
            "                                                                 \n",
            " dense_2 (Dense)             (None, 250)               5408250   \n",
            "                                                                 \n",
            " dense_3 (Dense)             (None, 10)                2510      \n",
            "                                                                 \n",
            "=================================================================\n",
            "Total params: 5411080 (20.64 MB)\n",
            "Trainable params: 5411080 (20.64 MB)\n",
            "Non-trainable params: 0 (0.00 Byte)\n",
            "_________________________________________________________________\n"
          ]
        }
      ],
      "source": [
        "from keras import layers\n",
        "from keras import models\n",
        "\n",
        "model = models.Sequential()\n",
        "model.add(layers.Conv2D(32, (3, 3), activation='relu', input_shape=(28, 28, 1)))\n",
        "model.add(layers.Flatten())\n",
        "model.add(layers.Dense(250, activation='relu'))\n",
        "model.add(layers.Dense(10, activation='softmax'))\n",
        "\n",
        "model.summary()\n"
      ]
    },
    {
      "cell_type": "code",
      "execution_count": 6,
      "metadata": {
        "id": "sxJRAjLxMw-I"
      },
      "outputs": [],
      "source": [
        "model.compile(optimizer = 'rmsprop',\n",
        "             loss = 'categorical_crossentropy',\n",
        "             metrics = ['accuracy'])"
      ]
    },
    {
      "cell_type": "code",
      "execution_count": 7,
      "metadata": {
        "id": "I7kQDnToMw-J",
        "outputId": "bd41b41a-6111-4cd6-f9f7-bf5f62833a03",
        "colab": {
          "base_uri": "https://localhost:8080/"
        }
      },
      "outputs": [
        {
          "output_type": "stream",
          "name": "stdout",
          "text": [
            "Epoch 1/5\n",
            "938/938 [==============================] - 13s 7ms/step - loss: 0.1607 - accuracy: 0.9508\n",
            "Epoch 2/5\n",
            "938/938 [==============================] - 4s 4ms/step - loss: 0.0456 - accuracy: 0.9859\n",
            "Epoch 3/5\n",
            "938/938 [==============================] - 4s 4ms/step - loss: 0.0249 - accuracy: 0.9925\n",
            "Epoch 4/5\n",
            "938/938 [==============================] - 4s 5ms/step - loss: 0.0131 - accuracy: 0.9957\n",
            "Epoch 5/5\n",
            "938/938 [==============================] - 4s 4ms/step - loss: 0.0069 - accuracy: 0.9979\n"
          ]
        },
        {
          "output_type": "execute_result",
          "data": {
            "text/plain": [
              "<keras.src.callbacks.History at 0x792d9d2b9cc0>"
            ]
          },
          "metadata": {},
          "execution_count": 7
        }
      ],
      "source": [
        "model.fit(train_images, train_labels, epochs=5, batch_size = 64)"
      ]
    },
    {
      "cell_type": "code",
      "execution_count": 8,
      "metadata": {
        "id": "6057RonaMw-J",
        "outputId": "9b1a95f0-024d-46a3-d816-d27d6b180168",
        "colab": {
          "base_uri": "https://localhost:8080/"
        }
      },
      "outputs": [
        {
          "output_type": "stream",
          "name": "stdout",
          "text": [
            "313/313 [==============================] - 1s 3ms/step - loss: 0.0527 - accuracy: 0.9850\n"
          ]
        },
        {
          "output_type": "execute_result",
          "data": {
            "text/plain": [
              "0.9850000143051147"
            ]
          },
          "metadata": {},
          "execution_count": 8
        }
      ],
      "source": [
        "model.evaluate(test_images, test_labels)[1]"
      ]
    },
    {
      "cell_type": "code",
      "execution_count": 9,
      "metadata": {
        "id": "rxpZZHvSMw-K"
      },
      "outputs": [],
      "source": [
        "def treinar(modelo):\n",
        "    modelo.compile(optimizer = 'rmsprop',\n",
        "             loss = 'categorical_crossentropy',\n",
        "             metrics = ['accuracy'])\n",
        "\n",
        "    modelo.fit(train_images, train_labels, epochs=5, batch_size = 64)\n",
        "\n",
        "    return modelo"
      ]
    },
    {
      "cell_type": "code",
      "execution_count": 10,
      "metadata": {
        "id": "94SzRWKZMw-K"
      },
      "outputs": [],
      "source": [
        "def stats(modelo):\n",
        "    return modelo.evaluate(test_images, test_labels)[1]  # Index 1 for accuracy\n"
      ]
    },
    {
      "cell_type": "code",
      "execution_count": 11,
      "metadata": {
        "id": "mRYNPdmQTzsZ"
      },
      "outputs": [],
      "source": [
        "#def treinamento(primeiro_layer,epocas,ultimo_layer):\n",
        " # model = Model([inpx], ultimo_layer)\n",
        "  #model.compile(optimizer=keras.optimizers.Adadelta(),\n",
        "   #     loss=keras.losses.categorical_crossentropy,\n",
        "    #    metrics=['accuracy'])\n",
        "\n",
        " # model.fit(x_train, y_train, epochs=epocas, batch_size=500)"
      ]
    },
    {
      "cell_type": "code",
      "execution_count": 12,
      "metadata": {
        "id": "7_4kU4yuUApW"
      },
      "outputs": [],
      "source": [
        "#def stats(x):\n",
        " # score = x.evaluate(x_test, y_test, verbose=0)\n",
        "  #print('loss=', score[0])\n",
        "  #print('accuracy=', score[1])"
      ]
    },
    {
      "cell_type": "markdown",
      "metadata": {
        "id": "BOGtUmB0SDED"
      },
      "source": [
        "# Testes com diferentes tamanhos de filtro"
      ]
    },
    {
      "cell_type": "markdown",
      "metadata": {
        "id": "JPDsIK4KSUe9"
      },
      "source": [
        "### Teste 1 (5x5)\n",
        "\n",
        "#### Arquitetura da Rede\n",
        "\n",
        "\n",
        "1. **Primeira Camada Convolucional**: Aplicamos 32 filtros de tamanho 5x5 com função de ativação ReLU.\n",
        "2. **Flatten**: Convertendo a saída da camada convolucional em um vetor 1D.\n",
        "3. **Primeira Camada Densa**: Contém 250 neurônios com função de ativação sigmoide.\n",
        "4. **Camada de Saída**: Contém 10 neurônios (um para cada classe) com função de ativação softmax."
      ]
    },
    {
      "cell_type": "code",
      "execution_count": 13,
      "metadata": {
        "id": "BUU2doZ6SSX2",
        "outputId": "e4b54f86-77bc-4d24-b8d5-e8638602d367",
        "colab": {
          "base_uri": "https://localhost:8080/"
        }
      },
      "outputs": [
        {
          "output_type": "stream",
          "name": "stdout",
          "text": [
            "Model: \"sequential_2\"\n",
            "_________________________________________________________________\n",
            " Layer (type)                Output Shape              Param #   \n",
            "=================================================================\n",
            " conv2d_4 (Conv2D)           (None, 24, 24, 32)        832       \n",
            "                                                                 \n",
            " flatten_2 (Flatten)         (None, 18432)             0         \n",
            "                                                                 \n",
            " dense_4 (Dense)             (None, 250)               4608250   \n",
            "                                                                 \n",
            " dense_5 (Dense)             (None, 10)                2510      \n",
            "                                                                 \n",
            "=================================================================\n",
            "Total params: 4611592 (17.59 MB)\n",
            "Trainable params: 4611592 (17.59 MB)\n",
            "Non-trainable params: 0 (0.00 Byte)\n",
            "_________________________________________________________________\n"
          ]
        }
      ],
      "source": [
        "model5x5 = models.Sequential()\n",
        "model5x5.add(layers.Conv2D(32, (5, 5), activation='relu', input_shape=(28, 28, 1)))\n",
        "model5x5.add(layers.Flatten())\n",
        "model5x5.add(layers.Dense(250, activation='relu'))\n",
        "model5x5.add(layers.Dense(10, activation='softmax'))\n",
        "\n",
        "model5x5.summary()"
      ]
    },
    {
      "cell_type": "code",
      "execution_count": 14,
      "metadata": {
        "colab": {
          "base_uri": "https://localhost:8080/"
        },
        "id": "c3LO8bKqTH3B",
        "outputId": "eb18c6a9-040e-4404-9e0a-abfda8f50fa5"
      },
      "outputs": [
        {
          "output_type": "stream",
          "name": "stdout",
          "text": [
            "Epoch 1/5\n",
            "938/938 [==============================] - 5s 5ms/step - loss: 0.1441 - accuracy: 0.9562\n",
            "Epoch 2/5\n",
            "938/938 [==============================] - 4s 4ms/step - loss: 0.0436 - accuracy: 0.9862\n",
            "Epoch 3/5\n",
            "938/938 [==============================] - 4s 4ms/step - loss: 0.0257 - accuracy: 0.9919\n",
            "Epoch 4/5\n",
            "938/938 [==============================] - 4s 4ms/step - loss: 0.0148 - accuracy: 0.9952\n",
            "Epoch 5/5\n",
            "938/938 [==============================] - 4s 4ms/step - loss: 0.0097 - accuracy: 0.9969\n"
          ]
        },
        {
          "output_type": "execute_result",
          "data": {
            "text/plain": [
              "<keras.src.engine.sequential.Sequential at 0x792d9cfa5390>"
            ]
          },
          "metadata": {},
          "execution_count": 14
        }
      ],
      "source": [
        "treinar(model5x5)\n"
      ]
    },
    {
      "cell_type": "code",
      "execution_count": 15,
      "metadata": {
        "colab": {
          "base_uri": "https://localhost:8080/"
        },
        "id": "9iSpowFnUGWY",
        "outputId": "288d347b-fcee-43da-f273-9d0a917eab2b"
      },
      "outputs": [
        {
          "output_type": "stream",
          "name": "stdout",
          "text": [
            "313/313 [==============================] - 1s 2ms/step - loss: 0.0439 - accuracy: 0.9889\n"
          ]
        },
        {
          "output_type": "execute_result",
          "data": {
            "text/plain": [
              "0.9889000058174133"
            ]
          },
          "metadata": {},
          "execution_count": 15
        }
      ],
      "source": [
        "stats(model5x5)"
      ]
    },
    {
      "cell_type": "markdown",
      "metadata": {
        "id": "1E_DP7JwcyGg"
      },
      "source": [
        "# Teste 7x7\n"
      ]
    },
    {
      "cell_type": "code",
      "execution_count": 16,
      "metadata": {
        "id": "lp-PlFVhc31r",
        "outputId": "946c049d-47a5-43f5-a77d-3793a726d282",
        "colab": {
          "base_uri": "https://localhost:8080/"
        }
      },
      "outputs": [
        {
          "output_type": "stream",
          "name": "stdout",
          "text": [
            "Model: \"sequential_3\"\n",
            "_________________________________________________________________\n",
            " Layer (type)                Output Shape              Param #   \n",
            "=================================================================\n",
            " conv2d_5 (Conv2D)           (None, 22, 22, 32)        1600      \n",
            "                                                                 \n",
            " flatten_3 (Flatten)         (None, 15488)             0         \n",
            "                                                                 \n",
            " dense_6 (Dense)             (None, 250)               3872250   \n",
            "                                                                 \n",
            " dense_7 (Dense)             (None, 10)                2510      \n",
            "                                                                 \n",
            "=================================================================\n",
            "Total params: 3876360 (14.79 MB)\n",
            "Trainable params: 3876360 (14.79 MB)\n",
            "Non-trainable params: 0 (0.00 Byte)\n",
            "_________________________________________________________________\n"
          ]
        }
      ],
      "source": [
        "model7x7 = models.Sequential()\n",
        "model7x7.add(layers.Conv2D(32, (7, 7), activation='relu', input_shape=(28, 28, 1)))\n",
        "model7x7.add(layers.Flatten())\n",
        "model7x7.add(layers.Dense(250, activation='relu'))\n",
        "model7x7.add(layers.Dense(10, activation='softmax'))\n",
        "\n",
        "model7x7.summary()"
      ]
    },
    {
      "cell_type": "code",
      "execution_count": 17,
      "metadata": {
        "colab": {
          "base_uri": "https://localhost:8080/"
        },
        "id": "4vnGocHHc8LQ",
        "outputId": "4a3430a6-e07c-40bf-c115-9df779aa0fcb"
      },
      "outputs": [
        {
          "output_type": "stream",
          "name": "stdout",
          "text": [
            "Epoch 1/5\n",
            "938/938 [==============================] - 5s 4ms/step - loss: 0.1324 - accuracy: 0.9593\n",
            "Epoch 2/5\n",
            "938/938 [==============================] - 4s 4ms/step - loss: 0.0408 - accuracy: 0.9875\n",
            "Epoch 3/5\n",
            "938/938 [==============================] - 3s 4ms/step - loss: 0.0234 - accuracy: 0.9924\n",
            "Epoch 4/5\n",
            "938/938 [==============================] - 4s 4ms/step - loss: 0.0137 - accuracy: 0.9956\n",
            "Epoch 5/5\n",
            "938/938 [==============================] - 4s 4ms/step - loss: 0.0083 - accuracy: 0.9974\n"
          ]
        },
        {
          "output_type": "execute_result",
          "data": {
            "text/plain": [
              "<keras.src.engine.sequential.Sequential at 0x792d9ceb5330>"
            ]
          },
          "metadata": {},
          "execution_count": 17
        }
      ],
      "source": [
        "treinar(model7x7)"
      ]
    },
    {
      "cell_type": "code",
      "execution_count": 18,
      "metadata": {
        "colab": {
          "base_uri": "https://localhost:8080/"
        },
        "id": "qvrxa3TSc8WB",
        "outputId": "fbd8314e-440c-4ff9-d9c7-3d0091dfbef8"
      },
      "outputs": [
        {
          "output_type": "stream",
          "name": "stdout",
          "text": [
            "313/313 [==============================] - 1s 3ms/step - loss: 0.0382 - accuracy: 0.9896\n"
          ]
        },
        {
          "output_type": "execute_result",
          "data": {
            "text/plain": [
              "0.9896000027656555"
            ]
          },
          "metadata": {},
          "execution_count": 18
        }
      ],
      "source": [
        "stats(model7x7)"
      ]
    },
    {
      "cell_type": "markdown",
      "metadata": {
        "id": "mKQ_vPL9h054"
      },
      "source": [
        "\n",
        "# Teste 25x25\n"
      ]
    },
    {
      "cell_type": "code",
      "execution_count": 19,
      "metadata": {
        "id": "htmll8lTh3l7",
        "outputId": "6683d204-5354-42dc-843a-308b99ef7666",
        "colab": {
          "base_uri": "https://localhost:8080/"
        }
      },
      "outputs": [
        {
          "output_type": "stream",
          "name": "stdout",
          "text": [
            "Model: \"sequential_4\"\n",
            "_________________________________________________________________\n",
            " Layer (type)                Output Shape              Param #   \n",
            "=================================================================\n",
            " conv2d_6 (Conv2D)           (None, 4, 4, 32)          20032     \n",
            "                                                                 \n",
            " flatten_4 (Flatten)         (None, 512)               0         \n",
            "                                                                 \n",
            " dense_8 (Dense)             (None, 250)               128250    \n",
            "                                                                 \n",
            " dense_9 (Dense)             (None, 10)                2510      \n",
            "                                                                 \n",
            "=================================================================\n",
            "Total params: 150792 (589.03 KB)\n",
            "Trainable params: 150792 (589.03 KB)\n",
            "Non-trainable params: 0 (0.00 Byte)\n",
            "_________________________________________________________________\n"
          ]
        }
      ],
      "source": [
        "model25x25 = models.Sequential()\n",
        "model25x25.add(layers.Conv2D(32, (25,25), activation='relu', input_shape=(28, 28, 1)))\n",
        "model25x25.add(layers.Flatten())\n",
        "model25x25.add(layers.Dense(250, activation='relu'))\n",
        "model25x25.add(layers.Dense(10, activation='softmax'))\n",
        "\n",
        "model25x25.summary()"
      ]
    },
    {
      "cell_type": "code",
      "execution_count": 20,
      "metadata": {
        "colab": {
          "base_uri": "https://localhost:8080/"
        },
        "id": "9oU2jEwxh-IU",
        "outputId": "e1cbf4cd-d1d5-445f-c979-e188c3af870f"
      },
      "outputs": [
        {
          "output_type": "stream",
          "name": "stdout",
          "text": [
            "Epoch 1/5\n",
            "938/938 [==============================] - 4s 3ms/step - loss: 0.2375 - accuracy: 0.9271\n",
            "Epoch 2/5\n",
            "938/938 [==============================] - 3s 3ms/step - loss: 0.0977 - accuracy: 0.9699\n",
            "Epoch 3/5\n",
            "938/938 [==============================] - 4s 4ms/step - loss: 0.0717 - accuracy: 0.9788\n",
            "Epoch 4/5\n",
            "938/938 [==============================] - 3s 3ms/step - loss: 0.0571 - accuracy: 0.9825\n",
            "Epoch 5/5\n",
            "938/938 [==============================] - 3s 3ms/step - loss: 0.0487 - accuracy: 0.9857\n"
          ]
        },
        {
          "output_type": "execute_result",
          "data": {
            "text/plain": [
              "<keras.src.engine.sequential.Sequential at 0x792d9cc02320>"
            ]
          },
          "metadata": {},
          "execution_count": 20
        }
      ],
      "source": [
        "treinar(model25x25)"
      ]
    },
    {
      "cell_type": "code",
      "execution_count": 21,
      "metadata": {
        "colab": {
          "base_uri": "https://localhost:8080/"
        },
        "id": "PcJkPqD5iAhJ",
        "outputId": "b014a76c-76a5-44d6-b72a-f93a356d012e"
      },
      "outputs": [
        {
          "output_type": "stream",
          "name": "stdout",
          "text": [
            "313/313 [==============================] - 1s 2ms/step - loss: 0.0760 - accuracy: 0.9801\n"
          ]
        },
        {
          "output_type": "execute_result",
          "data": {
            "text/plain": [
              "0.9800999760627747"
            ]
          },
          "metadata": {},
          "execution_count": 21
        }
      ],
      "source": [
        "stats(model25x25)"
      ]
    },
    {
      "cell_type": "markdown",
      "metadata": {
        "id": "EQB786z1kN6t"
      },
      "source": [
        "## Resultados parciais foram inconclusivos com apenas uma camada de convolução\n",
        "\n",
        "- 3x3: treinamento extremamente lento, muitos parâmetros e bons resultados.\n",
        "- 5x5: treinamento razoavelmente lento, muitos parâmetros e bons resultados.\n",
        "- 7x7: treinamento em tempo aceitável, quantidade menor de parâmetros e melhores resultados ( lembrando que usamos apenas UMA camada ).\n",
        "- 25x25: treinamento muito rápido, quantidade pequena de parâmetros e piores resultados, o que faz sentido pois são filtros 25x25 para imagens 28x28."
      ]
    },
    {
      "cell_type": "markdown",
      "metadata": {
        "id": "3wH0osR_GOKK"
      },
      "source": [
        "#"
      ]
    },
    {
      "cell_type": "markdown",
      "metadata": {
        "id": "iGhLc028Mw-T"
      },
      "source": [
        "# Múltiplas camadas de convolução"
      ]
    },
    {
      "cell_type": "markdown",
      "metadata": {
        "id": "-q26jud8Mw-U"
      },
      "source": [
        "### - 3 camadas de convolução 3x3"
      ]
    },
    {
      "cell_type": "code",
      "execution_count": 22,
      "metadata": {
        "id": "REvQX7aH342q",
        "outputId": "7c32fbb9-27b5-42ff-dd77-b2b9d06b0207",
        "colab": {
          "base_uri": "https://localhost:8080/"
        }
      },
      "outputs": [
        {
          "output_type": "stream",
          "name": "stdout",
          "text": [
            "Model: \"sequential_5\"\n",
            "_________________________________________________________________\n",
            " Layer (type)                Output Shape              Param #   \n",
            "=================================================================\n",
            " conv2d_7 (Conv2D)           (None, 26, 26, 32)        320       \n",
            "                                                                 \n",
            " conv2d_8 (Conv2D)           (None, 24, 24, 32)        9248      \n",
            "                                                                 \n",
            " conv2d_9 (Conv2D)           (None, 22, 22, 32)        9248      \n",
            "                                                                 \n",
            " flatten_5 (Flatten)         (None, 15488)             0         \n",
            "                                                                 \n",
            " dense_10 (Dense)            (None, 250)               3872250   \n",
            "                                                                 \n",
            " dense_11 (Dense)            (None, 10)                2510      \n",
            "                                                                 \n",
            "=================================================================\n",
            "Total params: 3893576 (14.85 MB)\n",
            "Trainable params: 3893576 (14.85 MB)\n",
            "Non-trainable params: 0 (0.00 Byte)\n",
            "_________________________________________________________________\n"
          ]
        }
      ],
      "source": [
        "model_camadas_3 = models.Sequential()\n",
        "model_camadas_3.add(layers.Conv2D(32, (3,3), activation='relu', input_shape=(28, 28, 1)))\n",
        "model_camadas_3.add(layers.Conv2D(32, (3,3), activation='relu', input_shape=(28, 28, 1)))\n",
        "model_camadas_3.add(layers.Conv2D(32, (3,3), activation='relu', input_shape=(28, 28, 1)))\n",
        "model_camadas_3.add(layers.Flatten())\n",
        "model_camadas_3.add(layers.Dense(250, activation='relu'))\n",
        "model_camadas_3.add(layers.Dense(10, activation='softmax'))\n",
        "\n",
        "model_camadas_3.summary()"
      ]
    },
    {
      "cell_type": "code",
      "execution_count": 23,
      "metadata": {
        "colab": {
          "base_uri": "https://localhost:8080/"
        },
        "id": "YqBU8U7hy9zD",
        "outputId": "86e4c8f3-502c-4bf3-e542-a19112d8161f"
      },
      "outputs": [
        {
          "output_type": "stream",
          "name": "stdout",
          "text": [
            "Epoch 1/5\n",
            "938/938 [==============================] - 7s 6ms/step - loss: 0.1247 - accuracy: 0.9617\n",
            "Epoch 2/5\n",
            "938/938 [==============================] - 6s 6ms/step - loss: 0.0366 - accuracy: 0.9884\n",
            "Epoch 3/5\n",
            "938/938 [==============================] - 5s 6ms/step - loss: 0.0210 - accuracy: 0.9935\n",
            "Epoch 4/5\n",
            "938/938 [==============================] - 6s 6ms/step - loss: 0.0135 - accuracy: 0.9958\n",
            "Epoch 5/5\n",
            "938/938 [==============================] - 5s 6ms/step - loss: 0.0086 - accuracy: 0.9974\n"
          ]
        },
        {
          "output_type": "execute_result",
          "data": {
            "text/plain": [
              "<keras.src.engine.sequential.Sequential at 0x792d868be200>"
            ]
          },
          "metadata": {},
          "execution_count": 23
        }
      ],
      "source": [
        "treinar(model_camadas_3)\n"
      ]
    },
    {
      "cell_type": "code",
      "execution_count": 24,
      "metadata": {
        "colab": {
          "base_uri": "https://localhost:8080/"
        },
        "id": "K-UiNf6Ky-kj",
        "outputId": "42126987-8949-41e2-9364-a319e33de34f"
      },
      "outputs": [
        {
          "output_type": "stream",
          "name": "stdout",
          "text": [
            "313/313 [==============================] - 1s 3ms/step - loss: 0.0380 - accuracy: 0.9914\n"
          ]
        },
        {
          "output_type": "execute_result",
          "data": {
            "text/plain": [
              "0.9914000034332275"
            ]
          },
          "metadata": {},
          "execution_count": 24
        }
      ],
      "source": [
        "stats(model_camadas_3)\n"
      ]
    },
    {
      "cell_type": "markdown",
      "metadata": {
        "id": "JG3X_ZsJMw-V"
      },
      "source": [
        "---"
      ]
    },
    {
      "cell_type": "code",
      "execution_count": 25,
      "metadata": {
        "id": "_QzPVstvMw-V",
        "outputId": "756067d5-be22-4b65-9c01-e1607f83771e",
        "colab": {
          "base_uri": "https://localhost:8080/"
        }
      },
      "outputs": [
        {
          "output_type": "stream",
          "name": "stdout",
          "text": [
            "Model: \"sequential_6\"\n",
            "_________________________________________________________________\n",
            " Layer (type)                Output Shape              Param #   \n",
            "=================================================================\n",
            " conv2d_10 (Conv2D)          (None, 21, 21, 32)        2080      \n",
            "                                                                 \n",
            " conv2d_11 (Conv2D)          (None, 14, 14, 32)        65568     \n",
            "                                                                 \n",
            " conv2d_12 (Conv2D)          (None, 7, 7, 32)          65568     \n",
            "                                                                 \n",
            " flatten_6 (Flatten)         (None, 1568)              0         \n",
            "                                                                 \n",
            " dense_12 (Dense)            (None, 250)               392250    \n",
            "                                                                 \n",
            " dense_13 (Dense)            (None, 10)                2510      \n",
            "                                                                 \n",
            "=================================================================\n",
            "Total params: 527976 (2.01 MB)\n",
            "Trainable params: 527976 (2.01 MB)\n",
            "Non-trainable params: 0 (0.00 Byte)\n",
            "_________________________________________________________________\n"
          ]
        }
      ],
      "source": [
        "model_camadas_8x8 = models.Sequential()\n",
        "model_camadas_8x8.add(layers.Conv2D(32, (8,8), activation='relu', input_shape=(28, 28, 1)))\n",
        "model_camadas_8x8.add(layers.Conv2D(32, (8,8), activation='relu', input_shape=(28, 28, 1)))\n",
        "model_camadas_8x8.add(layers.Conv2D(32, (8,8), activation='relu', input_shape=(28, 28, 1)))\n",
        "model_camadas_8x8.add(layers.Flatten())\n",
        "model_camadas_8x8.add(layers.Dense(250, activation='relu'))\n",
        "model_camadas_8x8.add(layers.Dense(10, activation='softmax'))\n",
        "\n",
        "model_camadas_8x8.summary()"
      ]
    },
    {
      "cell_type": "code",
      "execution_count": 26,
      "metadata": {
        "id": "H7VmM5JSMw-V",
        "outputId": "69fdc977-4a22-4d28-e8f5-bf24dd674a20",
        "colab": {
          "base_uri": "https://localhost:8080/"
        }
      },
      "outputs": [
        {
          "output_type": "stream",
          "name": "stdout",
          "text": [
            "Epoch 1/5\n",
            "938/938 [==============================] - 6s 5ms/step - loss: 0.1591 - accuracy: 0.9493\n",
            "Epoch 2/5\n",
            "938/938 [==============================] - 4s 4ms/step - loss: 0.0505 - accuracy: 0.9854\n",
            "Epoch 3/5\n",
            "938/938 [==============================] - 5s 5ms/step - loss: 0.0366 - accuracy: 0.9898\n",
            "Epoch 4/5\n",
            "938/938 [==============================] - 4s 4ms/step - loss: 0.0308 - accuracy: 0.9912\n",
            "Epoch 5/5\n",
            "938/938 [==============================] - 4s 4ms/step - loss: 0.0261 - accuracy: 0.9927\n"
          ]
        },
        {
          "output_type": "execute_result",
          "data": {
            "text/plain": [
              "<keras.src.engine.sequential.Sequential at 0x792d835e0a00>"
            ]
          },
          "metadata": {},
          "execution_count": 26
        }
      ],
      "source": [
        "treinar(model_camadas_8x8)"
      ]
    },
    {
      "cell_type": "code",
      "execution_count": 27,
      "metadata": {
        "id": "enD1a4eQMw-W",
        "outputId": "284085cc-d5db-4703-85f3-857f9649ea36",
        "colab": {
          "base_uri": "https://localhost:8080/"
        }
      },
      "outputs": [
        {
          "output_type": "stream",
          "name": "stdout",
          "text": [
            "313/313 [==============================] - 1s 3ms/step - loss: 0.0331 - accuracy: 0.9918\n"
          ]
        },
        {
          "output_type": "execute_result",
          "data": {
            "text/plain": [
              "0.9918000102043152"
            ]
          },
          "metadata": {},
          "execution_count": 27
        }
      ],
      "source": [
        "stats(model_camadas_8x8)"
      ]
    },
    {
      "cell_type": "markdown",
      "metadata": {
        "id": "BQns0u0kMw-X"
      },
      "source": [
        "## - Testando a utilização de padding no teste 8x8"
      ]
    },
    {
      "cell_type": "code",
      "execution_count": 28,
      "metadata": {
        "id": "gTDdLROoMw-X",
        "outputId": "1eeed619-8ed9-4d0a-83fc-4028ad8f834e",
        "colab": {
          "base_uri": "https://localhost:8080/"
        }
      },
      "outputs": [
        {
          "output_type": "stream",
          "name": "stdout",
          "text": [
            "Model: \"sequential_7\"\n",
            "_________________________________________________________________\n",
            " Layer (type)                Output Shape              Param #   \n",
            "=================================================================\n",
            " conv2d_13 (Conv2D)          (None, 28, 28, 32)        2080      \n",
            "                                                                 \n",
            " conv2d_14 (Conv2D)          (None, 28, 28, 32)        65568     \n",
            "                                                                 \n",
            " conv2d_15 (Conv2D)          (None, 28, 28, 32)        65568     \n",
            "                                                                 \n",
            " flatten_7 (Flatten)         (None, 25088)             0         \n",
            "                                                                 \n",
            " dense_14 (Dense)            (None, 250)               6272250   \n",
            "                                                                 \n",
            " dense_15 (Dense)            (None, 10)                2510      \n",
            "                                                                 \n",
            "=================================================================\n",
            "Total params: 6407976 (24.44 MB)\n",
            "Trainable params: 6407976 (24.44 MB)\n",
            "Non-trainable params: 0 (0.00 Byte)\n",
            "_________________________________________________________________\n"
          ]
        }
      ],
      "source": [
        "model_camadas_padding_8x8 = models.Sequential()\n",
        "model_camadas_padding_8x8.add(layers.Conv2D(32, (8,8), activation='relu', input_shape=(28, 28, 1), padding='same'))\n",
        "model_camadas_padding_8x8.add(layers.Conv2D(32, (8,8), activation='relu', input_shape=(28, 28, 1), padding='same'))\n",
        "model_camadas_padding_8x8.add(layers.Conv2D(32, (8,8), activation='relu', input_shape=(28, 28, 1), padding='same'))\n",
        "model_camadas_padding_8x8.add(layers.Flatten())\n",
        "model_camadas_padding_8x8.add(layers.Dense(250, activation='relu'))\n",
        "model_camadas_padding_8x8.add(layers.Dense(10, activation='softmax'))\n",
        "\n",
        "model_camadas_padding_8x8.summary()"
      ]
    },
    {
      "cell_type": "code",
      "execution_count": 29,
      "metadata": {
        "id": "fqHHfCUkMw-X",
        "outputId": "6f208ec5-ade8-41af-921b-ff8fcb7f0a97",
        "colab": {
          "base_uri": "https://localhost:8080/"
        }
      },
      "outputs": [
        {
          "output_type": "stream",
          "name": "stdout",
          "text": [
            "Epoch 1/5\n",
            "938/938 [==============================] - 14s 13ms/step - loss: 0.1468 - accuracy: 0.9540\n",
            "Epoch 2/5\n",
            "938/938 [==============================] - 12s 13ms/step - loss: 0.0421 - accuracy: 0.9872\n",
            "Epoch 3/5\n",
            "938/938 [==============================] - 12s 13ms/step - loss: 0.0294 - accuracy: 0.9916\n",
            "Epoch 4/5\n",
            "938/938 [==============================] - 12s 13ms/step - loss: 0.0219 - accuracy: 0.9934\n",
            "Epoch 5/5\n",
            "938/938 [==============================] - 12s 13ms/step - loss: 0.0175 - accuracy: 0.9952\n"
          ]
        },
        {
          "output_type": "execute_result",
          "data": {
            "text/plain": [
              "<keras.src.engine.sequential.Sequential at 0x792d33965d50>"
            ]
          },
          "metadata": {},
          "execution_count": 29
        }
      ],
      "source": [
        "treinar(model_camadas_padding_8x8)"
      ]
    },
    {
      "cell_type": "markdown",
      "metadata": {
        "id": "nrcE6MwUMw-X"
      },
      "source": [
        "# Resultados sobre o uso de padding\n",
        "\n",
        "O número de parâmetros cresceu exponencialmente, algo que faz sentido devido ao fato de que o \"shape\" do output não estava decrescendo, porém nesse caso a accuracy ainda caiu, ou seja, o padding não foi tão interessante assim para nosso projeto.\n",
        "\n",
        "- 8x8 sem padding: 0.9919000267982483\n",
        "- 8x8 com padding: 0.9914000034332275\n"
      ]
    },
    {
      "cell_type": "code",
      "execution_count": 30,
      "metadata": {
        "id": "mw0PDvHZMw-X",
        "outputId": "e581d73b-4cbf-4585-e152-87c2caa8fede",
        "colab": {
          "base_uri": "https://localhost:8080/"
        }
      },
      "outputs": [
        {
          "output_type": "stream",
          "name": "stdout",
          "text": [
            "313/313 [==============================] - 1s 4ms/step - loss: 0.0391 - accuracy: 0.9903\n"
          ]
        },
        {
          "output_type": "execute_result",
          "data": {
            "text/plain": [
              "0.9902999997138977"
            ]
          },
          "metadata": {},
          "execution_count": 30
        }
      ],
      "source": [
        "stats(model_camadas_padding_8x8)"
      ]
    },
    {
      "cell_type": "markdown",
      "metadata": {
        "id": "zMjJu2tcMw-Y"
      },
      "source": [
        "# ???????????????????????????????????\n",
        "# ????????????????????????????????????????????????"
      ]
    },
    {
      "cell_type": "markdown",
      "metadata": {
        "id": "eQePv8qTMw-Y"
      },
      "source": []
    },
    {
      "cell_type": "code",
      "execution_count": 31,
      "metadata": {
        "id": "8ozK3LGTMw-Y",
        "outputId": "9a408b7b-5cc9-4454-aa5b-128f0d0d8ee0",
        "colab": {
          "base_uri": "https://localhost:8080/"
        }
      },
      "outputs": [
        {
          "output_type": "stream",
          "name": "stdout",
          "text": [
            "Model: \"sequential_8\"\n",
            "_________________________________________________________________\n",
            " Layer (type)                Output Shape              Param #   \n",
            "=================================================================\n",
            " conv2d_16 (Conv2D)          (None, 26, 26, 32)        320       \n",
            "                                                                 \n",
            " conv2d_17 (Conv2D)          (None, 24, 24, 32)        9248      \n",
            "                                                                 \n",
            " conv2d_18 (Conv2D)          (None, 22, 22, 32)        9248      \n",
            "                                                                 \n",
            " conv2d_19 (Conv2D)          (None, 20, 20, 32)        9248      \n",
            "                                                                 \n",
            " conv2d_20 (Conv2D)          (None, 18, 18, 32)        9248      \n",
            "                                                                 \n",
            " conv2d_21 (Conv2D)          (None, 16, 16, 32)        9248      \n",
            "                                                                 \n",
            " conv2d_22 (Conv2D)          (None, 14, 14, 32)        9248      \n",
            "                                                                 \n",
            " conv2d_23 (Conv2D)          (None, 12, 12, 32)        9248      \n",
            "                                                                 \n",
            " flatten_8 (Flatten)         (None, 4608)              0         \n",
            "                                                                 \n",
            " dense_16 (Dense)            (None, 250)               1152250   \n",
            "                                                                 \n",
            " dense_17 (Dense)            (None, 10)                2510      \n",
            "                                                                 \n",
            "=================================================================\n",
            "Total params: 1219816 (4.65 MB)\n",
            "Trainable params: 1219816 (4.65 MB)\n",
            "Non-trainable params: 0 (0.00 Byte)\n",
            "_________________________________________________________________\n"
          ]
        }
      ],
      "source": [
        "\n",
        "model_camadas8_3 = models.Sequential()\n",
        "model_camadas8_3.add(layers.Conv2D(32, (3,3), activation='relu', input_shape=(28, 28, 1)))\n",
        "model_camadas8_3.add(layers.Conv2D(32, (3,3), activation='relu', input_shape=(28, 28, 1)))\n",
        "model_camadas8_3.add(layers.Conv2D(32, (3,3), activation='relu', input_shape=(28, 28, 1)))\n",
        "model_camadas8_3.add(layers.Conv2D(32, (3,3), activation='relu', input_shape=(28, 28, 1)))\n",
        "model_camadas8_3.add(layers.Conv2D(32, (3,3), activation='relu', input_shape=(28, 28, 1)))\n",
        "model_camadas8_3.add(layers.Conv2D(32, (3,3), activation='relu', input_shape=(28, 28, 1)))\n",
        "model_camadas8_3.add(layers.Conv2D(32, (3,3), activation='relu', input_shape=(28, 28, 1)))\n",
        "model_camadas8_3.add(layers.Conv2D(32, (3,3), activation='relu', input_shape=(28, 28, 1)))\n",
        "model_camadas8_3.add(layers.Flatten())\n",
        "model_camadas8_3.add(layers.Dense(250, activation='relu'))\n",
        "model_camadas8_3.add(layers.Dense(10, activation='softmax'))\n",
        "\n",
        "model_camadas8_3.summary()"
      ]
    },
    {
      "cell_type": "code",
      "execution_count": 32,
      "metadata": {
        "id": "3mwRvvptMw-Y",
        "outputId": "ed4d50b9-8d59-4461-8c7b-398b130e1392",
        "colab": {
          "base_uri": "https://localhost:8080/"
        }
      },
      "outputs": [
        {
          "output_type": "stream",
          "name": "stdout",
          "text": [
            "Epoch 1/5\n",
            "938/938 [==============================] - 11s 9ms/step - loss: 0.1766 - accuracy: 0.9446\n",
            "Epoch 2/5\n",
            "938/938 [==============================] - 11s 12ms/step - loss: 0.0503 - accuracy: 0.9852\n",
            "Epoch 3/5\n",
            "938/938 [==============================] - 9s 9ms/step - loss: 0.0347 - accuracy: 0.9895\n",
            "Epoch 4/5\n",
            "938/938 [==============================] - 8s 8ms/step - loss: 0.0273 - accuracy: 0.9916\n",
            "Epoch 5/5\n",
            "938/938 [==============================] - 7s 8ms/step - loss: 0.0228 - accuracy: 0.9930\n"
          ]
        },
        {
          "output_type": "execute_result",
          "data": {
            "text/plain": [
              "<keras.src.engine.sequential.Sequential at 0x792da0150490>"
            ]
          },
          "metadata": {},
          "execution_count": 32
        }
      ],
      "source": [
        "treinar(model_camadas8_3)"
      ]
    },
    {
      "cell_type": "code",
      "execution_count": 33,
      "metadata": {
        "id": "rbftLNygMw-Z",
        "outputId": "15f3dedf-ee8c-408b-e8fa-ef0f968a839c",
        "colab": {
          "base_uri": "https://localhost:8080/"
        }
      },
      "outputs": [
        {
          "output_type": "stream",
          "name": "stdout",
          "text": [
            "313/313 [==============================] - 1s 3ms/step - loss: 0.0323 - accuracy: 0.9907\n"
          ]
        },
        {
          "output_type": "execute_result",
          "data": {
            "text/plain": [
              "0.9907000064849854"
            ]
          },
          "metadata": {},
          "execution_count": 33
        }
      ],
      "source": [
        "stats(model_camadas8_3)"
      ]
    },
    {
      "cell_type": "markdown",
      "metadata": {
        "id": "LhllLQ3HMw-Z"
      },
      "source": [
        "# Utilizando a mesma rede para outro teste com padding"
      ]
    },
    {
      "cell_type": "markdown",
      "metadata": {
        "id": "OHJtwchFMw-Z"
      },
      "source": [
        "Mais uma vez resultados não tão interessantes utilizando padding\n"
      ]
    },
    {
      "cell_type": "code",
      "execution_count": 34,
      "metadata": {
        "id": "kjRP8ro9Mw-Z",
        "outputId": "701a6f0e-8a5c-46f1-ba9e-f7de591d68e7",
        "colab": {
          "base_uri": "https://localhost:8080/"
        }
      },
      "outputs": [
        {
          "output_type": "stream",
          "name": "stdout",
          "text": [
            "Model: \"sequential_9\"\n",
            "_________________________________________________________________\n",
            " Layer (type)                Output Shape              Param #   \n",
            "=================================================================\n",
            " conv2d_24 (Conv2D)          (None, 28, 28, 32)        320       \n",
            "                                                                 \n",
            " conv2d_25 (Conv2D)          (None, 28, 28, 32)        9248      \n",
            "                                                                 \n",
            " conv2d_26 (Conv2D)          (None, 28, 28, 32)        9248      \n",
            "                                                                 \n",
            " conv2d_27 (Conv2D)          (None, 28, 28, 32)        9248      \n",
            "                                                                 \n",
            " conv2d_28 (Conv2D)          (None, 28, 28, 32)        9248      \n",
            "                                                                 \n",
            " conv2d_29 (Conv2D)          (None, 28, 28, 32)        9248      \n",
            "                                                                 \n",
            " conv2d_30 (Conv2D)          (None, 28, 28, 32)        9248      \n",
            "                                                                 \n",
            " conv2d_31 (Conv2D)          (None, 28, 28, 32)        9248      \n",
            "                                                                 \n",
            " flatten_9 (Flatten)         (None, 25088)             0         \n",
            "                                                                 \n",
            " dense_18 (Dense)            (None, 250)               6272250   \n",
            "                                                                 \n",
            " dense_19 (Dense)            (None, 10)                2510      \n",
            "                                                                 \n",
            "=================================================================\n",
            "Total params: 6339816 (24.18 MB)\n",
            "Trainable params: 6339816 (24.18 MB)\n",
            "Non-trainable params: 0 (0.00 Byte)\n",
            "_________________________________________________________________\n"
          ]
        }
      ],
      "source": [
        "model_camadas_padding_8_3 = models.Sequential()\n",
        "model_camadas_padding_8_3.add(layers.Conv2D(32, (3, 3), activation='relu', input_shape=(28, 28, 1), padding='same'))\n",
        "model_camadas_padding_8_3.add(layers.Conv2D(32, (3, 3), activation='relu', input_shape=(28, 28, 1), padding='same'))\n",
        "model_camadas_padding_8_3.add(layers.Conv2D(32, (3, 3), activation='relu', input_shape=(28, 28, 1), padding='same'))\n",
        "model_camadas_padding_8_3.add(layers.Conv2D(32, (3, 3), activation='relu', input_shape=(28, 28, 1), padding='same'))\n",
        "model_camadas_padding_8_3.add(layers.Conv2D(32, (3, 3), activation='relu', input_shape=(28, 28, 1), padding='same'))\n",
        "model_camadas_padding_8_3.add(layers.Conv2D(32, (3, 3), activation='relu', input_shape=(28, 28, 1), padding='same'))\n",
        "model_camadas_padding_8_3.add(layers.Conv2D(32, (3, 3), activation='relu', input_shape=(28, 28, 1), padding='same'))\n",
        "model_camadas_padding_8_3.add(layers.Conv2D(32, (3, 3), activation='relu', input_shape=(28, 28, 1), padding='same'))\n",
        "model_camadas_padding_8_3.add(layers.Flatten())\n",
        "model_camadas_padding_8_3.add(layers.Dense(250, activation='relu'))\n",
        "model_camadas_padding_8_3.add(layers.Dense(10, activation='softmax'))\n",
        "\n",
        "model_camadas_padding_8_3.summary()"
      ]
    },
    {
      "cell_type": "code",
      "execution_count": 35,
      "metadata": {
        "id": "aqtq9nxRMw-a",
        "outputId": "3b63cd79-a65c-4ec4-c825-9a26edad8ebd",
        "colab": {
          "base_uri": "https://localhost:8080/"
        }
      },
      "outputs": [
        {
          "output_type": "stream",
          "name": "stdout",
          "text": [
            "Epoch 1/5\n",
            "938/938 [==============================] - 14s 12ms/step - loss: 0.1567 - accuracy: 0.9522\n",
            "Epoch 2/5\n",
            "938/938 [==============================] - 11s 12ms/step - loss: 0.0422 - accuracy: 0.9871\n",
            "Epoch 3/5\n",
            "938/938 [==============================] - 11s 12ms/step - loss: 0.0273 - accuracy: 0.9915\n",
            "Epoch 4/5\n",
            "938/938 [==============================] - 11s 12ms/step - loss: 0.0182 - accuracy: 0.9943\n",
            "Epoch 5/5\n",
            "938/938 [==============================] - 11s 12ms/step - loss: 0.0137 - accuracy: 0.9960\n"
          ]
        },
        {
          "output_type": "execute_result",
          "data": {
            "text/plain": [
              "<keras.src.engine.sequential.Sequential at 0x792cfc10bdc0>"
            ]
          },
          "metadata": {},
          "execution_count": 35
        }
      ],
      "source": [
        "treinar(model_camadas_padding_8_3)"
      ]
    },
    {
      "cell_type": "code",
      "execution_count": 36,
      "metadata": {
        "id": "UWKr56v6Mw-a",
        "outputId": "8f65877e-0973-4d71-aefd-3eeeb01ffb1e",
        "colab": {
          "base_uri": "https://localhost:8080/"
        }
      },
      "outputs": [
        {
          "output_type": "stream",
          "name": "stdout",
          "text": [
            "313/313 [==============================] - 1s 3ms/step - loss: 0.0342 - accuracy: 0.9890\n"
          ]
        },
        {
          "output_type": "execute_result",
          "data": {
            "text/plain": [
              "0.9890000224113464"
            ]
          },
          "metadata": {},
          "execution_count": 36
        }
      ],
      "source": [
        "stats(model_camadas_padding_8_3)"
      ]
    },
    {
      "cell_type": "markdown",
      "metadata": {
        "id": "_5P8dIN5Mw-a"
      },
      "source": [
        "# Testando a utilização de stride\n",
        "\n",
        "observe o resultado do sumário da rede neural, a quantidade de parâmetros pequena afeta diretamente o tempo de treinamento e o resultado."
      ]
    },
    {
      "cell_type": "code",
      "execution_count": 37,
      "metadata": {
        "id": "hYHHqroVMw-a",
        "outputId": "cd80a50e-eff7-4cbc-f14b-8468d64ac025",
        "colab": {
          "base_uri": "https://localhost:8080/"
        }
      },
      "outputs": [
        {
          "output_type": "stream",
          "name": "stdout",
          "text": [
            "Model: \"sequential_10\"\n",
            "_________________________________________________________________\n",
            " Layer (type)                Output Shape              Param #   \n",
            "=================================================================\n",
            " conv2d_32 (Conv2D)          (None, 13, 13, 32)        320       \n",
            "                                                                 \n",
            " conv2d_33 (Conv2D)          (None, 6, 6, 32)          9248      \n",
            "                                                                 \n",
            " conv2d_34 (Conv2D)          (None, 2, 2, 32)          9248      \n",
            "                                                                 \n",
            " flatten_10 (Flatten)        (None, 128)               0         \n",
            "                                                                 \n",
            " dense_20 (Dense)            (None, 250)               32250     \n",
            "                                                                 \n",
            " dense_21 (Dense)            (None, 10)                2510      \n",
            "                                                                 \n",
            "=================================================================\n",
            "Total params: 53576 (209.28 KB)\n",
            "Trainable params: 53576 (209.28 KB)\n",
            "Non-trainable params: 0 (0.00 Byte)\n",
            "_________________________________________________________________\n"
          ]
        }
      ],
      "source": [
        "model_camadas_stride_3x3 = models.Sequential()\n",
        "model_camadas_stride_3x3.add(layers.Conv2D(32, (3,3), activation='relu', input_shape=(28, 28, 1), strides=(2,2)))\n",
        "model_camadas_stride_3x3.add(layers.Conv2D(32, (3,3), activation='relu', input_shape=(28, 28, 1), strides=(2,2)))\n",
        "model_camadas_stride_3x3.add(layers.Conv2D(32, (3,3), activation='relu', input_shape=(28, 28, 1), strides=(2,2)))\n",
        "model_camadas_stride_3x3.add(layers.Flatten())\n",
        "model_camadas_stride_3x3.add(layers.Dense(250, activation='relu'))\n",
        "model_camadas_stride_3x3.add(layers.Dense(10, activation='softmax'))\n",
        "model_camadas_stride_3x3.summary()"
      ]
    },
    {
      "cell_type": "code",
      "execution_count": 38,
      "metadata": {
        "id": "YX5OtvawMw-a",
        "outputId": "c8509b13-9517-4a2a-ed6a-7d981b7e4141",
        "colab": {
          "base_uri": "https://localhost:8080/"
        }
      },
      "outputs": [
        {
          "output_type": "stream",
          "name": "stdout",
          "text": [
            "Epoch 1/5\n",
            "938/938 [==============================] - 6s 5ms/step - loss: 0.2667 - accuracy: 0.9194\n",
            "Epoch 2/5\n",
            "938/938 [==============================] - 3s 4ms/step - loss: 0.0890 - accuracy: 0.9732\n",
            "Epoch 3/5\n",
            "938/938 [==============================] - 4s 4ms/step - loss: 0.0613 - accuracy: 0.9814\n",
            "Epoch 4/5\n",
            "938/938 [==============================] - 4s 5ms/step - loss: 0.0469 - accuracy: 0.9854\n",
            "Epoch 5/5\n",
            "938/938 [==============================] - 4s 4ms/step - loss: 0.0381 - accuracy: 0.9884\n"
          ]
        },
        {
          "output_type": "execute_result",
          "data": {
            "text/plain": [
              "<keras.src.engine.sequential.Sequential at 0x792cfbf2fe20>"
            ]
          },
          "metadata": {},
          "execution_count": 38
        }
      ],
      "source": [
        "treinar(model_camadas_stride_3x3)"
      ]
    },
    {
      "cell_type": "code",
      "execution_count": 39,
      "metadata": {
        "id": "uXwa9Pm-Mw-b",
        "outputId": "f5c9bc1a-12f5-4893-f4f4-81b387905a1e",
        "colab": {
          "base_uri": "https://localhost:8080/"
        }
      },
      "outputs": [
        {
          "output_type": "stream",
          "name": "stdout",
          "text": [
            "313/313 [==============================] - 1s 3ms/step - loss: 0.0448 - accuracy: 0.9869\n"
          ]
        },
        {
          "output_type": "execute_result",
          "data": {
            "text/plain": [
              "0.9868999719619751"
            ]
          },
          "metadata": {},
          "execution_count": 39
        }
      ],
      "source": [
        "stats(model_camadas_stride_3x3)"
      ]
    },
    {
      "cell_type": "markdown",
      "source": [
        "# Testes variando o Pooling\n",
        "Nós vamos agora variar os poolings, entre diferentes tipos, como MaxPooling ou AvgPooling, e diferentes valores"
      ],
      "metadata": {
        "id": "1L-GwBnYhkn2"
      }
    },
    {
      "cell_type": "markdown",
      "source": [
        "## Testes com Average Pooling e o Max Pooling"
      ],
      "metadata": {
        "id": "MEnjZ03Sirbs"
      }
    },
    {
      "cell_type": "markdown",
      "source": [
        "### Max Pooling"
      ],
      "metadata": {
        "id": "nOfPncVUkcvD"
      }
    },
    {
      "cell_type": "code",
      "source": [
        "model_max_pooling = models.Sequential([\n",
        "    layers.Conv2D(filters=32, kernel_size=(3, 3), activation='relu', input_shape=(28, 28, 1)),\n",
        "    layers.MaxPooling2D(pool_size=(3, 3)),\n",
        "    layers.Conv2D(filters=64, kernel_size=(3, 3), activation='relu'),\n",
        "    layers.MaxPooling2D(pool_size=(3, 3)),\n",
        "    layers.Flatten(),\n",
        "    layers.Dense(128, activation='relu'),\n",
        "    layers.Dropout(0.5),\n",
        "    layers.Dense(10, activation='softmax')\n",
        "])\n",
        "model_max_pooling.summary()"
      ],
      "metadata": {
        "colab": {
          "base_uri": "https://localhost:8080/"
        },
        "id": "oRQ16oItkZc8",
        "outputId": "042db247-9d5c-4031-f1b9-80ea24befe71"
      },
      "execution_count": 41,
      "outputs": [
        {
          "output_type": "stream",
          "name": "stdout",
          "text": [
            "Model: \"sequential_11\"\n",
            "_________________________________________________________________\n",
            " Layer (type)                Output Shape              Param #   \n",
            "=================================================================\n",
            " conv2d_35 (Conv2D)          (None, 26, 26, 32)        320       \n",
            "                                                                 \n",
            " max_pooling2d_2 (MaxPoolin  (None, 8, 8, 32)          0         \n",
            " g2D)                                                            \n",
            "                                                                 \n",
            " conv2d_36 (Conv2D)          (None, 6, 6, 64)          18496     \n",
            "                                                                 \n",
            " max_pooling2d_3 (MaxPoolin  (None, 2, 2, 64)          0         \n",
            " g2D)                                                            \n",
            "                                                                 \n",
            " flatten_11 (Flatten)        (None, 256)               0         \n",
            "                                                                 \n",
            " dense_22 (Dense)            (None, 128)               32896     \n",
            "                                                                 \n",
            " dropout (Dropout)           (None, 128)               0         \n",
            "                                                                 \n",
            " dense_23 (Dense)            (None, 10)                1290      \n",
            "                                                                 \n",
            "=================================================================\n",
            "Total params: 53002 (207.04 KB)\n",
            "Trainable params: 53002 (207.04 KB)\n",
            "Non-trainable params: 0 (0.00 Byte)\n",
            "_________________________________________________________________\n"
          ]
        }
      ]
    },
    {
      "cell_type": "code",
      "source": [
        "treinar(model_max_pooling)"
      ],
      "metadata": {
        "colab": {
          "base_uri": "https://localhost:8080/"
        },
        "id": "usmrGt3dk1d7",
        "outputId": "309c8022-ef9c-462f-f294-769610216e84"
      },
      "execution_count": 42,
      "outputs": [
        {
          "output_type": "stream",
          "name": "stdout",
          "text": [
            "Epoch 1/5\n",
            "938/938 [==============================] - 7s 5ms/step - loss: 0.3683 - accuracy: 0.8886\n",
            "Epoch 2/5\n",
            "938/938 [==============================] - 4s 5ms/step - loss: 0.1128 - accuracy: 0.9653\n",
            "Epoch 3/5\n",
            "938/938 [==============================] - 4s 5ms/step - loss: 0.0788 - accuracy: 0.9766\n",
            "Epoch 4/5\n",
            "938/938 [==============================] - 4s 5ms/step - loss: 0.0625 - accuracy: 0.9810\n",
            "Epoch 5/5\n",
            "938/938 [==============================] - 4s 5ms/step - loss: 0.0535 - accuracy: 0.9839\n"
          ]
        },
        {
          "output_type": "execute_result",
          "data": {
            "text/plain": [
              "<keras.src.engine.sequential.Sequential at 0x792d9cdb6b00>"
            ]
          },
          "metadata": {},
          "execution_count": 42
        }
      ]
    },
    {
      "cell_type": "code",
      "source": [
        "stats(model_max_pooling)"
      ],
      "metadata": {
        "colab": {
          "base_uri": "https://localhost:8080/"
        },
        "id": "ihX-xZRTk3pP",
        "outputId": "f63afa10-3a3d-4f0b-a731-0b1bff905744"
      },
      "execution_count": 43,
      "outputs": [
        {
          "output_type": "stream",
          "name": "stdout",
          "text": [
            "313/313 [==============================] - 1s 3ms/step - loss: 0.0326 - accuracy: 0.9890\n"
          ]
        },
        {
          "output_type": "execute_result",
          "data": {
            "text/plain": [
              "0.9890000224113464"
            ]
          },
          "metadata": {},
          "execution_count": 43
        }
      ]
    },
    {
      "cell_type": "markdown",
      "source": [
        "### Average Pooling"
      ],
      "metadata": {
        "id": "szEvJjnNk84o"
      }
    },
    {
      "cell_type": "code",
      "source": [
        "model_avg_pooling = models.Sequential([\n",
        "    layers.Conv2D(filters=32, kernel_size=(3, 3), activation='relu', input_shape=(28, 28, 1)),\n",
        "    layers.AveragePooling2D(pool_size=(3, 3)),\n",
        "    layers.Conv2D(filters=64, kernel_size=(3, 3), activation='relu'),\n",
        "    layers.AveragePooling2D(pool_size=(3, 3)),\n",
        "    layers.Flatten(),\n",
        "    layers.Dense(128, activation='relu'),\n",
        "    layers.Dropout(0.5),\n",
        "    layers.Dense(10, activation='softmax')\n",
        "])\n",
        "model_avg_pooling.summary()"
      ],
      "metadata": {
        "colab": {
          "base_uri": "https://localhost:8080/"
        },
        "id": "S3_LWKvyk7J_",
        "outputId": "82ed0aaa-9089-410d-919d-f125656b79ea"
      },
      "execution_count": 44,
      "outputs": [
        {
          "output_type": "stream",
          "name": "stdout",
          "text": [
            "Model: \"sequential_12\"\n",
            "_________________________________________________________________\n",
            " Layer (type)                Output Shape              Param #   \n",
            "=================================================================\n",
            " conv2d_37 (Conv2D)          (None, 26, 26, 32)        320       \n",
            "                                                                 \n",
            " average_pooling2d (Average  (None, 8, 8, 32)          0         \n",
            " Pooling2D)                                                      \n",
            "                                                                 \n",
            " conv2d_38 (Conv2D)          (None, 6, 6, 64)          18496     \n",
            "                                                                 \n",
            " average_pooling2d_1 (Avera  (None, 2, 2, 64)          0         \n",
            " gePooling2D)                                                    \n",
            "                                                                 \n",
            " flatten_12 (Flatten)        (None, 256)               0         \n",
            "                                                                 \n",
            " dense_24 (Dense)            (None, 128)               32896     \n",
            "                                                                 \n",
            " dropout_1 (Dropout)         (None, 128)               0         \n",
            "                                                                 \n",
            " dense_25 (Dense)            (None, 10)                1290      \n",
            "                                                                 \n",
            "=================================================================\n",
            "Total params: 53002 (207.04 KB)\n",
            "Trainable params: 53002 (207.04 KB)\n",
            "Non-trainable params: 0 (0.00 Byte)\n",
            "_________________________________________________________________\n"
          ]
        }
      ]
    },
    {
      "cell_type": "code",
      "source": [
        "treinar(model_avg_pooling)"
      ],
      "metadata": {
        "colab": {
          "base_uri": "https://localhost:8080/"
        },
        "id": "PqK0AyGDnISi",
        "outputId": "28d60395-9377-4190-ed6e-a02e4ddb2b18"
      },
      "execution_count": 46,
      "outputs": [
        {
          "output_type": "stream",
          "name": "stdout",
          "text": [
            "Epoch 1/5\n",
            "938/938 [==============================] - 5s 4ms/step - loss: 0.5579 - accuracy: 0.8234\n",
            "Epoch 2/5\n",
            "938/938 [==============================] - 5s 5ms/step - loss: 0.2143 - accuracy: 0.9358\n",
            "Epoch 3/5\n",
            "938/938 [==============================] - 4s 4ms/step - loss: 0.1544 - accuracy: 0.9539\n",
            "Epoch 4/5\n",
            "938/938 [==============================] - 4s 4ms/step - loss: 0.1251 - accuracy: 0.9628\n",
            "Epoch 5/5\n",
            "938/938 [==============================] - 5s 5ms/step - loss: 0.1026 - accuracy: 0.9693\n"
          ]
        },
        {
          "output_type": "execute_result",
          "data": {
            "text/plain": [
              "<keras.src.engine.sequential.Sequential at 0x792cfaa599f0>"
            ]
          },
          "metadata": {},
          "execution_count": 46
        }
      ]
    },
    {
      "cell_type": "code",
      "source": [
        "stats(model_avg_pooling)"
      ],
      "metadata": {
        "colab": {
          "base_uri": "https://localhost:8080/"
        },
        "id": "c1UKuaAgnMEk",
        "outputId": "6a1cd1e7-9c6a-4b40-8c16-6f6caf7e65ce"
      },
      "execution_count": 47,
      "outputs": [
        {
          "output_type": "stream",
          "name": "stdout",
          "text": [
            "313/313 [==============================] - 1s 4ms/step - loss: 0.0554 - accuracy: 0.9804\n"
          ]
        },
        {
          "output_type": "execute_result",
          "data": {
            "text/plain": [
              "0.980400025844574"
            ]
          },
          "metadata": {},
          "execution_count": 47
        }
      ]
    },
    {
      "cell_type": "markdown",
      "source": [
        "## Testes com diferentes valores para o Max Pooling\n",
        "Como o Max Pooling demonstrou nos testes ser um pouco superior ao Average Pooling, vamos utilizarelepara tesatr com diferentes valores de pooling"
      ],
      "metadata": {
        "id": "VjhJHFyJnhXI"
      }
    },
    {
      "cell_type": "markdown",
      "source": [
        "### Max Pooling 2x2"
      ],
      "metadata": {
        "id": "RxsARoFkoGer"
      }
    },
    {
      "cell_type": "code",
      "source": [
        "model_max_pooling2 = models.Sequential([\n",
        "    layers.Conv2D(filters=32, kernel_size=(3, 3), activation='relu', input_shape=(28, 28, 1)),\n",
        "    layers.MaxPooling2D(pool_size=(2, 2)),\n",
        "    layers.Conv2D(filters=64, kernel_size=(3, 3), activation='relu'),\n",
        "    layers.MaxPooling2D(pool_size=(2, 2)),\n",
        "    layers.Flatten(),\n",
        "    layers.Dense(128, activation='relu'),\n",
        "    layers.Dropout(0.5),\n",
        "    layers.Dense(10, activation='softmax')\n",
        "])\n",
        "model_max_pooling2.summary()"
      ],
      "metadata": {
        "colab": {
          "base_uri": "https://localhost:8080/"
        },
        "id": "KazqIWECoAV7",
        "outputId": "0823f9a3-1b55-49cd-bdb5-b6736fd76517"
      },
      "execution_count": 48,
      "outputs": [
        {
          "output_type": "stream",
          "name": "stdout",
          "text": [
            "Model: \"sequential_13\"\n",
            "_________________________________________________________________\n",
            " Layer (type)                Output Shape              Param #   \n",
            "=================================================================\n",
            " conv2d_39 (Conv2D)          (None, 26, 26, 32)        320       \n",
            "                                                                 \n",
            " max_pooling2d_4 (MaxPoolin  (None, 13, 13, 32)        0         \n",
            " g2D)                                                            \n",
            "                                                                 \n",
            " conv2d_40 (Conv2D)          (None, 11, 11, 64)        18496     \n",
            "                                                                 \n",
            " max_pooling2d_5 (MaxPoolin  (None, 5, 5, 64)          0         \n",
            " g2D)                                                            \n",
            "                                                                 \n",
            " flatten_13 (Flatten)        (None, 1600)              0         \n",
            "                                                                 \n",
            " dense_26 (Dense)            (None, 128)               204928    \n",
            "                                                                 \n",
            " dropout_2 (Dropout)         (None, 128)               0         \n",
            "                                                                 \n",
            " dense_27 (Dense)            (None, 10)                1290      \n",
            "                                                                 \n",
            "=================================================================\n",
            "Total params: 225034 (879.04 KB)\n",
            "Trainable params: 225034 (879.04 KB)\n",
            "Non-trainable params: 0 (0.00 Byte)\n",
            "_________________________________________________________________\n"
          ]
        }
      ]
    },
    {
      "cell_type": "code",
      "source": [
        "treinar(model_max_pooling2)"
      ],
      "metadata": {
        "colab": {
          "base_uri": "https://localhost:8080/"
        },
        "id": "kIE89eutohPE",
        "outputId": "82eb31e4-b64c-4d41-a817-7a12f0aa15e8"
      },
      "execution_count": 49,
      "outputs": [
        {
          "output_type": "stream",
          "name": "stdout",
          "text": [
            "Epoch 1/5\n",
            "938/938 [==============================] - 5s 4ms/step - loss: 0.2132 - accuracy: 0.9343\n",
            "Epoch 2/5\n",
            "938/938 [==============================] - 5s 5ms/step - loss: 0.0720 - accuracy: 0.9788\n",
            "Epoch 3/5\n",
            "938/938 [==============================] - 4s 4ms/step - loss: 0.0541 - accuracy: 0.9839\n",
            "Epoch 4/5\n",
            "938/938 [==============================] - 4s 5ms/step - loss: 0.0447 - accuracy: 0.9865\n",
            "Epoch 5/5\n",
            "938/938 [==============================] - 6s 6ms/step - loss: 0.0395 - accuracy: 0.9887\n"
          ]
        },
        {
          "output_type": "execute_result",
          "data": {
            "text/plain": [
              "<keras.src.engine.sequential.Sequential at 0x792cf867dae0>"
            ]
          },
          "metadata": {},
          "execution_count": 49
        }
      ]
    },
    {
      "cell_type": "code",
      "source": [
        "stats(model_max_pooling2)"
      ],
      "metadata": {
        "colab": {
          "base_uri": "https://localhost:8080/"
        },
        "id": "wV9xXlvKomo1",
        "outputId": "e5c0398a-356c-43a7-dff7-60475c0e95d3"
      },
      "execution_count": 50,
      "outputs": [
        {
          "output_type": "stream",
          "name": "stdout",
          "text": [
            "313/313 [==============================] - 1s 3ms/step - loss: 0.0264 - accuracy: 0.9910\n"
          ]
        },
        {
          "output_type": "execute_result",
          "data": {
            "text/plain": [
              "0.9909999966621399"
            ]
          },
          "metadata": {},
          "execution_count": 50
        }
      ]
    },
    {
      "cell_type": "markdown",
      "source": [
        "### Max Pooling 5x5"
      ],
      "metadata": {
        "id": "lg8RFxggoytv"
      }
    },
    {
      "cell_type": "code",
      "source": [
        "model_max_pooling5 = models.Sequential([\n",
        "    layers.Conv2D(filters=32, kernel_size=(3, 3), activation='relu', input_shape=(28, 28, 1)),\n",
        "    layers.MaxPooling2D(pool_size=(5, 5)),  # Reduz para 5x5\n",
        "    layers.Conv2D(filters=64, kernel_size=(1, 1), activation='relu'),  # Usa kernel 1x1 para não alterar a dimensão\n",
        "    layers.MaxPooling2D(pool_size=(5, 5)),  # Reduz para 1x1\n",
        "    layers.Flatten(),\n",
        "    layers.Dense(128, activation='relu'),\n",
        "    layers.Dropout(0.5),\n",
        "    layers.Dense(10, activation='softmax')\n",
        "])\n",
        "model_max_pooling5.summary()"
      ],
      "metadata": {
        "colab": {
          "base_uri": "https://localhost:8080/"
        },
        "id": "bRcypBRzoCn6",
        "outputId": "e6bba388-992a-4e9f-86d0-a686c97bbd20"
      },
      "execution_count": 56,
      "outputs": [
        {
          "output_type": "stream",
          "name": "stdout",
          "text": [
            "Model: \"sequential_19\"\n",
            "_________________________________________________________________\n",
            " Layer (type)                Output Shape              Param #   \n",
            "=================================================================\n",
            " conv2d_53 (Conv2D)          (None, 26, 26, 32)        320       \n",
            "                                                                 \n",
            " max_pooling2d_15 (MaxPooli  (None, 5, 5, 32)          0         \n",
            " ng2D)                                                           \n",
            "                                                                 \n",
            " conv2d_54 (Conv2D)          (None, 5, 5, 64)          2112      \n",
            "                                                                 \n",
            " max_pooling2d_16 (MaxPooli  (None, 1, 1, 64)          0         \n",
            " ng2D)                                                           \n",
            "                                                                 \n",
            " flatten_19 (Flatten)        (None, 64)                0         \n",
            "                                                                 \n",
            " dense_38 (Dense)            (None, 128)               8320      \n",
            "                                                                 \n",
            " dropout_8 (Dropout)         (None, 128)               0         \n",
            "                                                                 \n",
            " dense_39 (Dense)            (None, 10)                1290      \n",
            "                                                                 \n",
            "=================================================================\n",
            "Total params: 12042 (47.04 KB)\n",
            "Trainable params: 12042 (47.04 KB)\n",
            "Non-trainable params: 0 (0.00 Byte)\n",
            "_________________________________________________________________\n"
          ]
        }
      ]
    },
    {
      "cell_type": "code",
      "source": [
        "treinar(model_max_pooling5)"
      ],
      "metadata": {
        "colab": {
          "base_uri": "https://localhost:8080/"
        },
        "id": "lDFsUoU2pmpq",
        "outputId": "f2b38996-5caa-45e8-f7ed-cce3e55a1df2"
      },
      "execution_count": 57,
      "outputs": [
        {
          "output_type": "stream",
          "name": "stdout",
          "text": [
            "Epoch 1/5\n",
            "938/938 [==============================] - 6s 5ms/step - loss: 1.5611 - accuracy: 0.4550\n",
            "Epoch 2/5\n",
            "938/938 [==============================] - 4s 4ms/step - loss: 0.9614 - accuracy: 0.6739\n",
            "Epoch 3/5\n",
            "938/938 [==============================] - 4s 4ms/step - loss: 0.7498 - accuracy: 0.7522\n",
            "Epoch 4/5\n",
            "938/938 [==============================] - 4s 5ms/step - loss: 0.6114 - accuracy: 0.8018\n",
            "Epoch 5/5\n",
            "938/938 [==============================] - 3s 4ms/step - loss: 0.5289 - accuracy: 0.8306\n"
          ]
        },
        {
          "output_type": "execute_result",
          "data": {
            "text/plain": [
              "<keras.src.engine.sequential.Sequential at 0x792cf3866800>"
            ]
          },
          "metadata": {},
          "execution_count": 57
        }
      ]
    },
    {
      "cell_type": "code",
      "source": [
        "stats(model_max_pooling5)"
      ],
      "metadata": {
        "colab": {
          "base_uri": "https://localhost:8080/"
        },
        "id": "K8CYfQRmppZW",
        "outputId": "e6957867-216c-4c8e-efc4-edb93f9e6ddf"
      },
      "execution_count": 58,
      "outputs": [
        {
          "output_type": "stream",
          "name": "stdout",
          "text": [
            "313/313 [==============================] - 1s 3ms/step - loss: 0.3668 - accuracy: 0.8836\n"
          ]
        },
        {
          "output_type": "execute_result",
          "data": {
            "text/plain": [
              "0.8835999965667725"
            ]
          },
          "metadata": {},
          "execution_count": 58
        }
      ]
    },
    {
      "cell_type": "markdown",
      "source": [
        "# Testes de Dropout"
      ],
      "metadata": {
        "id": "HgyC_gCspw7E"
      }
    },
    {
      "cell_type": "markdown",
      "source": [
        "## Sem Dropout"
      ],
      "metadata": {
        "id": "0ppRtewCrtqN"
      }
    },
    {
      "cell_type": "code",
      "source": [
        "model_no_dropout = models.Sequential([\n",
        "    layers.Conv2D(filters=32, kernel_size=(3, 3), activation='relu', input_shape=(28, 28, 1)),\n",
        "    layers.MaxPooling2D(pool_size=(2, 2)),\n",
        "    layers.Conv2D(filters=64, kernel_size=(3, 3), activation='relu'),\n",
        "    layers.MaxPooling2D(pool_size=(2, 2)),\n",
        "    layers.Flatten(),\n",
        "    layers.Dense(128, activation='relu'),\n",
        "    layers.Dropout(0.0),\n",
        "    layers.Dense(10, activation='softmax')\n",
        "])\n",
        "model_no_dropout.summary()"
      ],
      "metadata": {
        "colab": {
          "base_uri": "https://localhost:8080/"
        },
        "id": "kSeAm6FVr0bE",
        "outputId": "9672be87-5d36-468f-fce5-1e968e7a33e7"
      },
      "execution_count": 59,
      "outputs": [
        {
          "output_type": "stream",
          "name": "stdout",
          "text": [
            "Model: \"sequential_20\"\n",
            "_________________________________________________________________\n",
            " Layer (type)                Output Shape              Param #   \n",
            "=================================================================\n",
            " conv2d_55 (Conv2D)          (None, 26, 26, 32)        320       \n",
            "                                                                 \n",
            " max_pooling2d_17 (MaxPooli  (None, 13, 13, 32)        0         \n",
            " ng2D)                                                           \n",
            "                                                                 \n",
            " conv2d_56 (Conv2D)          (None, 11, 11, 64)        18496     \n",
            "                                                                 \n",
            " max_pooling2d_18 (MaxPooli  (None, 5, 5, 64)          0         \n",
            " ng2D)                                                           \n",
            "                                                                 \n",
            " flatten_20 (Flatten)        (None, 1600)              0         \n",
            "                                                                 \n",
            " dense_40 (Dense)            (None, 128)               204928    \n",
            "                                                                 \n",
            " dropout_9 (Dropout)         (None, 128)               0         \n",
            "                                                                 \n",
            " dense_41 (Dense)            (None, 10)                1290      \n",
            "                                                                 \n",
            "=================================================================\n",
            "Total params: 225034 (879.04 KB)\n",
            "Trainable params: 225034 (879.04 KB)\n",
            "Non-trainable params: 0 (0.00 Byte)\n",
            "_________________________________________________________________\n"
          ]
        }
      ]
    },
    {
      "cell_type": "code",
      "source": [
        "treinar(model_no_dropout)"
      ],
      "metadata": {
        "colab": {
          "base_uri": "https://localhost:8080/"
        },
        "id": "7HlFfWXusDk8",
        "outputId": "cdce2136-13a9-4194-f301-afd0b5e0dc33"
      },
      "execution_count": 60,
      "outputs": [
        {
          "output_type": "stream",
          "name": "stdout",
          "text": [
            "Epoch 1/5\n",
            "938/938 [==============================] - 5s 5ms/step - loss: 0.1578 - accuracy: 0.9509\n",
            "Epoch 2/5\n",
            "938/938 [==============================] - 4s 4ms/step - loss: 0.0469 - accuracy: 0.9853\n",
            "Epoch 3/5\n",
            "938/938 [==============================] - 4s 4ms/step - loss: 0.0322 - accuracy: 0.9898\n",
            "Epoch 4/5\n",
            "938/938 [==============================] - 4s 5ms/step - loss: 0.0236 - accuracy: 0.9928\n",
            "Epoch 5/5\n",
            "938/938 [==============================] - 8s 9ms/step - loss: 0.0173 - accuracy: 0.9946\n"
          ]
        },
        {
          "output_type": "execute_result",
          "data": {
            "text/plain": [
              "<keras.src.engine.sequential.Sequential at 0x792cf40c6fe0>"
            ]
          },
          "metadata": {},
          "execution_count": 60
        }
      ]
    },
    {
      "cell_type": "code",
      "source": [
        "stats(model_no_dropout)"
      ],
      "metadata": {
        "colab": {
          "base_uri": "https://localhost:8080/"
        },
        "id": "EaFLMRNusHLY",
        "outputId": "5130ca99-e98a-49fb-ce19-4e01186e4579"
      },
      "execution_count": 61,
      "outputs": [
        {
          "output_type": "stream",
          "name": "stdout",
          "text": [
            "313/313 [==============================] - 2s 5ms/step - loss: 0.0248 - accuracy: 0.9920\n"
          ]
        },
        {
          "output_type": "execute_result",
          "data": {
            "text/plain": [
              "0.9919999837875366"
            ]
          },
          "metadata": {},
          "execution_count": 61
        }
      ]
    },
    {
      "cell_type": "markdown",
      "source": [
        "## Dropout Baixo (0.1)"
      ],
      "metadata": {
        "id": "wI8Op1PAsK8F"
      }
    },
    {
      "cell_type": "code",
      "source": [
        "model_dropout_0_1 = models.Sequential([\n",
        "    layers.Conv2D(filters=32, kernel_size=(3, 3), activation='relu', input_shape=(28, 28, 1)),\n",
        "    layers.MaxPooling2D(pool_size=(2, 2)),\n",
        "    layers.Conv2D(filters=64, kernel_size=(3, 3), activation='relu'),\n",
        "    layers.MaxPooling2D(pool_size=(2, 2)),\n",
        "    layers.Flatten(),\n",
        "    layers.Dense(128, activation='relu'),\n",
        "    layers.Dropout(0.1),\n",
        "    layers.Dense(10, activation='softmax')\n",
        "])\n",
        "model_dropout_0_1.summary()"
      ],
      "metadata": {
        "colab": {
          "base_uri": "https://localhost:8080/"
        },
        "id": "wJIptZYAscy_",
        "outputId": "96775766-049d-480b-8b4c-e5c455f49e00"
      },
      "execution_count": 62,
      "outputs": [
        {
          "output_type": "stream",
          "name": "stdout",
          "text": [
            "Model: \"sequential_21\"\n",
            "_________________________________________________________________\n",
            " Layer (type)                Output Shape              Param #   \n",
            "=================================================================\n",
            " conv2d_57 (Conv2D)          (None, 26, 26, 32)        320       \n",
            "                                                                 \n",
            " max_pooling2d_19 (MaxPooli  (None, 13, 13, 32)        0         \n",
            " ng2D)                                                           \n",
            "                                                                 \n",
            " conv2d_58 (Conv2D)          (None, 11, 11, 64)        18496     \n",
            "                                                                 \n",
            " max_pooling2d_20 (MaxPooli  (None, 5, 5, 64)          0         \n",
            " ng2D)                                                           \n",
            "                                                                 \n",
            " flatten_21 (Flatten)        (None, 1600)              0         \n",
            "                                                                 \n",
            " dense_42 (Dense)            (None, 128)               204928    \n",
            "                                                                 \n",
            " dropout_10 (Dropout)        (None, 128)               0         \n",
            "                                                                 \n",
            " dense_43 (Dense)            (None, 10)                1290      \n",
            "                                                                 \n",
            "=================================================================\n",
            "Total params: 225034 (879.04 KB)\n",
            "Trainable params: 225034 (879.04 KB)\n",
            "Non-trainable params: 0 (0.00 Byte)\n",
            "_________________________________________________________________\n"
          ]
        }
      ]
    },
    {
      "cell_type": "code",
      "source": [
        "treinar(model_dropout_0_1)"
      ],
      "metadata": {
        "colab": {
          "base_uri": "https://localhost:8080/"
        },
        "id": "piGAv0v-sz1G",
        "outputId": "1515ee37-0af5-492a-b563-dc2623a12fe8"
      },
      "execution_count": 63,
      "outputs": [
        {
          "output_type": "stream",
          "name": "stdout",
          "text": [
            "Epoch 1/5\n",
            "938/938 [==============================] - 5s 4ms/step - loss: 0.1654 - accuracy: 0.9488\n",
            "Epoch 2/5\n",
            "938/938 [==============================] - 4s 4ms/step - loss: 0.0504 - accuracy: 0.9845\n",
            "Epoch 3/5\n",
            "938/938 [==============================] - 4s 5ms/step - loss: 0.0347 - accuracy: 0.9891\n",
            "Epoch 4/5\n",
            "938/938 [==============================] - 4s 5ms/step - loss: 0.0269 - accuracy: 0.9916\n",
            "Epoch 5/5\n",
            "938/938 [==============================] - 4s 4ms/step - loss: 0.0201 - accuracy: 0.9935\n"
          ]
        },
        {
          "output_type": "execute_result",
          "data": {
            "text/plain": [
              "<keras.src.engine.sequential.Sequential at 0x792cf3e4b310>"
            ]
          },
          "metadata": {},
          "execution_count": 63
        }
      ]
    },
    {
      "cell_type": "code",
      "source": [
        "stats(model_dropout_0_1)"
      ],
      "metadata": {
        "colab": {
          "base_uri": "https://localhost:8080/"
        },
        "id": "93DIxb9Ds0Dy",
        "outputId": "2f7f4ef2-ba46-401f-f271-c1d761fe2f8d"
      },
      "execution_count": 64,
      "outputs": [
        {
          "output_type": "stream",
          "name": "stdout",
          "text": [
            "313/313 [==============================] - 1s 3ms/step - loss: 0.0284 - accuracy: 0.9912\n"
          ]
        },
        {
          "output_type": "execute_result",
          "data": {
            "text/plain": [
              "0.9911999702453613"
            ]
          },
          "metadata": {},
          "execution_count": 64
        }
      ]
    },
    {
      "cell_type": "markdown",
      "source": [
        "## Dropout Alto (0.5)"
      ],
      "metadata": {
        "id": "9zcWnRw0s90S"
      }
    },
    {
      "cell_type": "code",
      "source": [
        "model_dropout_0_5 = models.Sequential([\n",
        "    layers.Conv2D(filters=32, kernel_size=(3, 3), activation='relu', input_shape=(28, 28, 1)),\n",
        "    layers.MaxPooling2D(pool_size=(2, 2)),\n",
        "    layers.Conv2D(filters=64, kernel_size=(3, 3), activation='relu'),\n",
        "    layers.MaxPooling2D(pool_size=(2, 2)),\n",
        "    layers.Flatten(),\n",
        "    layers.Dense(128, activation='relu'),\n",
        "    layers.Dropout(0.5),\n",
        "    layers.Dense(10, activation='softmax')\n",
        "])\n",
        "model_dropout_0_5.summary()"
      ],
      "metadata": {
        "colab": {
          "base_uri": "https://localhost:8080/"
        },
        "id": "ZpNfsr-4tDBH",
        "outputId": "68216734-bcf3-4e8e-a5f3-09a6445354c5"
      },
      "execution_count": 65,
      "outputs": [
        {
          "output_type": "stream",
          "name": "stdout",
          "text": [
            "Model: \"sequential_22\"\n",
            "_________________________________________________________________\n",
            " Layer (type)                Output Shape              Param #   \n",
            "=================================================================\n",
            " conv2d_59 (Conv2D)          (None, 26, 26, 32)        320       \n",
            "                                                                 \n",
            " max_pooling2d_21 (MaxPooli  (None, 13, 13, 32)        0         \n",
            " ng2D)                                                           \n",
            "                                                                 \n",
            " conv2d_60 (Conv2D)          (None, 11, 11, 64)        18496     \n",
            "                                                                 \n",
            " max_pooling2d_22 (MaxPooli  (None, 5, 5, 64)          0         \n",
            " ng2D)                                                           \n",
            "                                                                 \n",
            " flatten_22 (Flatten)        (None, 1600)              0         \n",
            "                                                                 \n",
            " dense_44 (Dense)            (None, 128)               204928    \n",
            "                                                                 \n",
            " dropout_11 (Dropout)        (None, 128)               0         \n",
            "                                                                 \n",
            " dense_45 (Dense)            (None, 10)                1290      \n",
            "                                                                 \n",
            "=================================================================\n",
            "Total params: 225034 (879.04 KB)\n",
            "Trainable params: 225034 (879.04 KB)\n",
            "Non-trainable params: 0 (0.00 Byte)\n",
            "_________________________________________________________________\n"
          ]
        }
      ]
    },
    {
      "cell_type": "code",
      "source": [
        "treinar(model_dropout_0_5)"
      ],
      "metadata": {
        "colab": {
          "base_uri": "https://localhost:8080/"
        },
        "id": "8Be9pkiNtP9P",
        "outputId": "5991549e-34ea-4e2e-a2e4-71969d0b62d1"
      },
      "execution_count": 66,
      "outputs": [
        {
          "output_type": "stream",
          "name": "stdout",
          "text": [
            "Epoch 1/5\n",
            "938/938 [==============================] - 52s 4ms/step - loss: 0.2282 - accuracy: 0.9307\n",
            "Epoch 2/5\n",
            "938/938 [==============================] - 4s 4ms/step - loss: 0.0746 - accuracy: 0.9780\n",
            "Epoch 3/5\n",
            "938/938 [==============================] - 4s 4ms/step - loss: 0.0558 - accuracy: 0.9835\n",
            "Epoch 4/5\n",
            "938/938 [==============================] - 4s 4ms/step - loss: 0.0448 - accuracy: 0.9868\n",
            "Epoch 5/5\n",
            "938/938 [==============================] - 4s 4ms/step - loss: 0.0397 - accuracy: 0.9885\n"
          ]
        },
        {
          "output_type": "execute_result",
          "data": {
            "text/plain": [
              "<keras.src.engine.sequential.Sequential at 0x792cf3c46bf0>"
            ]
          },
          "metadata": {},
          "execution_count": 66
        }
      ]
    },
    {
      "cell_type": "code",
      "source": [
        "stats(model_dropout_0_5)"
      ],
      "metadata": {
        "colab": {
          "base_uri": "https://localhost:8080/"
        },
        "id": "VAf1jK_KtOBj",
        "outputId": "a7cbb751-b244-483e-9e11-8cb5a28ec032"
      },
      "execution_count": 67,
      "outputs": [
        {
          "output_type": "stream",
          "name": "stdout",
          "text": [
            "313/313 [==============================] - 1s 2ms/step - loss: 0.0273 - accuracy: 0.9916\n"
          ]
        },
        {
          "output_type": "execute_result",
          "data": {
            "text/plain": [
              "0.991599977016449"
            ]
          },
          "metadata": {},
          "execution_count": 67
        }
      ]
    }
  ],
  "metadata": {
    "accelerator": "GPU",
    "colab": {
      "gpuType": "T4",
      "provenance": []
    },
    "kernelspec": {
      "display_name": "Python 3",
      "name": "python3"
    },
    "language_info": {
      "codemirror_mode": {
        "name": "ipython",
        "version": 3
      },
      "file_extension": ".py",
      "mimetype": "text/x-python",
      "name": "python",
      "nbconvert_exporter": "python",
      "pygments_lexer": "ipython3",
      "version": "3.11.6"
    }
  },
  "nbformat": 4,
  "nbformat_minor": 0
}